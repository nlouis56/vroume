{
 "cells": [
  {
   "cell_type": "code",
   "execution_count": 1,
   "metadata": {},
   "outputs": [
    {
     "name": "stdout",
     "output_type": "stream",
     "text": [
      "Writing 75 tracks to TECHNO BUNKER.txt.\n",
      "Searching for Hare Ram by Lilly Palmer.\n",
      "Writing 85 tracks to SV24 - Hard.txt.\n",
      "Searching for MASSACRO by Malice.\n",
      "Writing 331 tracks to DLDS-reggaeton.txt.\n",
      "Initiating download for MASSACRO-Malice.\n",
      "[youtube] Extracting URL: https://www.youtube.com/watch?v=pRj8shjopKM&pp=ygUPTUFTU0FDUk8tTWFsaWNl\n",
      "[youtube] pRj8shjopKM: Downloading webpage\n",
      "Initiating download for Hare Ram-Lilly Palmer.\n",
      "[youtube] Extracting URL: https://www.youtube.com/watch?v=JKivvqaOyd0&pp=ygUVSGFyZSBSYW0tTGlsbHkgUGFsbWVy\n",
      "[youtube] JKivvqaOyd0: Downloading webpage\n",
      "[youtube] pRj8shjopKM: Downloading ios player API JSON\n",
      "[youtube] pRj8shjopKM: Downloading android player API JSON\n"
     ]
    },
    {
     "name": "stderr",
     "output_type": "stream",
     "text": [
      "WARNING: [youtube] Skipping player responses from android clients (got player responses for video \"aQvGIIdgFDM\" instead of \"pRj8shjopKM\")\n"
     ]
    },
    {
     "name": "stdout",
     "output_type": "stream",
     "text": [
      "[youtube] JKivvqaOyd0: Downloading ios player API JSON\n",
      "[youtube] JKivvqaOyd0: Downloading android player API JSON\n"
     ]
    },
    {
     "name": "stderr",
     "output_type": "stream",
     "text": [
      "WARNING: [youtube] Skipping player responses from android clients (got player responses for video \"aQvGIIdgFDM\" instead of \"JKivvqaOyd0\")\n"
     ]
    },
    {
     "name": "stdout",
     "output_type": "stream",
     "text": [
      "Searching for NANA DEL HILO ROJO by SAIKO.\n",
      "Initiating download for NANA DEL HILO ROJO-SAIKO.\n",
      "[youtube] Extracting URL: https://www.youtube.com/watch?v=RfMiJGkEYW8&pp=ygUYTkFOQSBERUwgSElMTyBST0pPLVNBSUtP\n",
      "[youtube] RfMiJGkEYW8: Downloading webpage\n",
      "[youtube] pRj8shjopKM: Downloading m3u8 information\n"
     ]
    },
    {
     "name": "stderr",
     "output_type": "stream",
     "text": [
      "WARNING: [youtube] Incomplete data received in embedded initial data; re-fetching using API.\n"
     ]
    },
    {
     "name": "stdout",
     "output_type": "stream",
     "text": [
      "[youtube] pRj8shjopKM: Downloading initial data API JSON\n",
      "[youtube] RfMiJGkEYW8: Downloading ios player API JSON\n",
      "[youtube] RfMiJGkEYW8: Downloading android player API JSON\n"
     ]
    },
    {
     "name": "stderr",
     "output_type": "stream",
     "text": [
      "WARNING: [youtube] Skipping player responses from android clients (got player responses for video \"aQvGIIdgFDM\" instead of \"RfMiJGkEYW8\")\n"
     ]
    },
    {
     "name": "stdout",
     "output_type": "stream",
     "text": [
      "[youtube] JKivvqaOyd0: Downloading m3u8 information\n",
      "[info] pRj8shjopKM: Downloading 1 format(s): 251\n",
      "[info] JKivvqaOyd0: Downloading 1 format(s): 251\n",
      "[download] Destination: SV24 - Hard/Aggressive Act - MASSACRO (Official Video) (AR Mixtape Vol.1).webm\n",
      "[download]   3.3% of    1.88MiB at  329.72KiB/s ETA 00:05[download] Destination: TECHNO BUNKER/Lilly Palmer - Hare Ram (Official Music Video).webm\n",
      "[download] 100% of    1.88MiB in 00:00:01 at 1.61MiB/s   \n",
      "[ExtractAudio] Destination: SV24 - Hard/Aggressive Act - MASSACRO (Official Video) (AR Mixtape Vol.1).wav\n",
      "[download] 100.0% of    3.36MiB at    2.18MiB/s ETA 00:00Deleting original file SV24 - Hard/Aggressive Act - MASSACRO (Official Video) (AR Mixtape Vol.1).webm (pass -k to keep)\n",
      "[download] 100% of    3.36MiB in 00:00:01 at 1.97MiB/s   \n",
      "Searching for Pussy Motherfuckerz - D-Fence Remix by Endymion.\n",
      "[ExtractAudio] Destination: TECHNO BUNKER/Lilly Palmer - Hare Ram (Official Music Video).wav\n",
      "[youtube] RfMiJGkEYW8: Downloading m3u8 information\n",
      "[info] RfMiJGkEYW8: Downloading 1 format(s): 251\n",
      "Initiating download for Pussy Motherfuckerz - D-Fence Remix-Endymion.\n",
      "[youtube] Extracting URL: https://www.youtube.com/watch?v=0oKYBGiefRg&pp=ygUsUHVzc3kgTW90aGVyZnVja2VyeiAtIEQtRmVuY2UgUmVtaXgtRW5keW1pb24%3D\n",
      "[youtube] 0oKYBGiefRg: Downloading webpage\n",
      "Deleting original file TECHNO BUNKER/Lilly Palmer - Hare Ram (Official Music Video).webm (pass -k to keep)\n",
      "Searching for ORION by Space 92.\n",
      "[download] Destination: DLDS-reggaeton/SAIKO, Sky Rompiendo - NANA DEL HILO ROJO (Official Video) ｜ SAKURA.webm\n",
      "[download]  60.4% of    3.31MiB at    3.40MiB/s ETA 00:00[youtube] 0oKYBGiefRg: Downloading ios player API JSON\n",
      "Initiating download for ORION-Space 92.\n",
      "[youtube] 0oKYBGiefRg: Downloading android player API JSON\n",
      "[youtube] Extracting URL: https://www.youtube.com/watch?v=yCoNjt5AXpU&pp=ygUOT1JJT04tU3BhY2UgOTI%3D\n",
      "[youtube] yCoNjt5AXpU: Downloading webpage\n",
      "[download] 100% of    3.31MiB in 00:00:01 at 2.93MiB/s   \n",
      "[ExtractAudio] Destination: DLDS-reggaeton/SAIKO, Sky Rompiendo - NANA DEL HILO ROJO (Official Video) ｜ SAKURA.wav\n"
     ]
    },
    {
     "name": "stderr",
     "output_type": "stream",
     "text": [
      "WARNING: [youtube] Skipping player responses from android clients (got player responses for video \"aQvGIIdgFDM\" instead of \"0oKYBGiefRg\")\n"
     ]
    },
    {
     "name": "stdout",
     "output_type": "stream",
     "text": [
      "[youtube] yCoNjt5AXpU: Downloading ios player API JSON\n",
      "Deleting original file DLDS-reggaeton/SAIKO, Sky Rompiendo - NANA DEL HILO ROJO (Official Video) ｜ SAKURA.webm (pass -k to keep)\n",
      "Searching for Gata Only by FloyyMenor.\n",
      "[youtube] yCoNjt5AXpU: Downloading android player API JSON\n"
     ]
    },
    {
     "name": "stderr",
     "output_type": "stream",
     "text": [
      "WARNING: [youtube] Skipping player responses from android clients (got player responses for video \"aQvGIIdgFDM\" instead of \"yCoNjt5AXpU\")\n"
     ]
    },
    {
     "name": "stdout",
     "output_type": "stream",
     "text": [
      "Initiating download for Gata Only-FloyyMenor.\n",
      "[youtube] Extracting URL: https://www.youtube.com/watch?v=-r687V8yqKY&pp=ygUUR2F0YSBPbmx5LUZsb3l5TWVub3I%3D\n",
      "[youtube] -r687V8yqKY: Downloading webpage\n",
      "[youtube] 0oKYBGiefRg: Downloading m3u8 information\n",
      "[info] 0oKYBGiefRg: Downloading 1 format(s): 251\n",
      "[download] Destination: SV24 - Hard/Endymion - Pussy Motherfuckerz (D-Fence Remix + 210 BPM Pitch).webm\n",
      "[download]   0.3% of    2.70MiB at   99.89KiB/s ETA 00:27[youtube] -r687V8yqKY: Downloading ios player API JSON\n",
      "[download]   4.6% of    2.70MiB at  441.29KiB/s ETA 00:05[youtube] -r687V8yqKY: Downloading android player API JSON\n",
      "[download]  18.5% of    2.70MiB at    1.07MiB/s ETA 00:02"
     ]
    },
    {
     "name": "stderr",
     "output_type": "stream",
     "text": [
      "WARNING: [youtube] Skipping player responses from android clients (got player responses for video \"aQvGIIdgFDM\" instead of \"-r687V8yqKY\")\n"
     ]
    },
    {
     "name": "stdout",
     "output_type": "stream",
     "text": [
      "[download]  37.0% of    2.70MiB at    1.09MiB/s ETA 00:01[youtube] yCoNjt5AXpU: Downloading m3u8 information\n",
      "[info] yCoNjt5AXpU: Downloading 1 format(s): 251\n",
      "[download]  74.0% of    2.70MiB at    1.38MiB/s ETA 00:00[download] Destination: TECHNO BUNKER/Space 92 & HI-LO - ORION [Official Audio].webm\n",
      "[download] 100% of    2.70MiB in 00:00:01 at 1.49MiB/s   \n",
      "[download]   5.1% of    4.87MiB at    1.15MiB/s ETA 00:04[ExtractAudio] Destination: SV24 - Hard/Endymion - Pussy Motherfuckerz (D-Fence Remix + 210 BPM Pitch).wav\n",
      "[download]  41.1% of    4.87MiB at    2.73MiB/s ETA 00:01Deleting original file SV24 - Hard/Endymion - Pussy Motherfuckerz (D-Fence Remix + 210 BPM Pitch).webm (pass -k to keep)\n",
      "[download]  82.2% of    4.87MiB at    3.34MiB/s ETA 00:00Searching for Wanna Play? - 270 BPM Terror Edit by The Prophet.\n",
      "[download] 100% of    4.87MiB in 00:00:01 at 2.93MiB/s   \n",
      "[ExtractAudio] Destination: TECHNO BUNKER/Space 92 & HI-LO - ORION [Official Audio].wav\n",
      "[youtube] -r687V8yqKY: Downloading m3u8 information\n",
      "Initiating download for Wanna Play? - 270 BPM Terror Edit-The Prophet.\n",
      "[youtube] Extracting URL: https://www.youtube.com/watch?v=mMifb5E2HJs&pp=ygUtV2FubmEgUGxheT8gLSAyNzAgQlBNIFRlcnJvciBFZGl0LVRoZSBQcm9waGV0\n",
      "[youtube] mMifb5E2HJs: Downloading webpage\n"
     ]
    },
    {
     "ename": "KeyboardInterrupt",
     "evalue": "",
     "output_type": "error",
     "traceback": [
      "\u001b[0;31m---------------------------------------------------------------------------\u001b[0m",
      "\u001b[0;31mKeyboardInterrupt\u001b[0m                         Traceback (most recent call last)",
      "Cell \u001b[0;32mIn[1], line 104\u001b[0m\n\u001b[1;32m    102\u001b[0m playlist_ids \u001b[38;5;241m=\u001b[39m [\u001b[38;5;124m\"\u001b[39m\u001b[38;5;124m37i9dQZF1DX6J5NfMJS675\u001b[39m\u001b[38;5;124m\"\u001b[39m, \u001b[38;5;124m\"\u001b[39m\u001b[38;5;124m3B7HTAQWys3xZZ8YChBgUE\u001b[39m\u001b[38;5;124m\"\u001b[39m, \u001b[38;5;124m\"\u001b[39m\u001b[38;5;124m2rs8eQ5qDqu2lLIqHvId6l\u001b[39m\u001b[38;5;124m\"\u001b[39m]\n\u001b[1;32m    103\u001b[0m \u001b[38;5;28;01mif\u001b[39;00m \u001b[38;5;18m__name__\u001b[39m \u001b[38;5;241m==\u001b[39m \u001b[38;5;124m\"\u001b[39m\u001b[38;5;124m__main__\u001b[39m\u001b[38;5;124m\"\u001b[39m:\n\u001b[0;32m--> 104\u001b[0m     \u001b[38;5;28;01mwith\u001b[39;00m cf\u001b[38;5;241m.\u001b[39mThreadPoolExecutor(max_workers\u001b[38;5;241m=\u001b[39m\u001b[38;5;28mlen\u001b[39m(playlist_ids)) \u001b[38;5;28;01mas\u001b[39;00m executor:\n\u001b[1;32m    105\u001b[0m         \u001b[38;5;28;01mfor\u001b[39;00m playlist_id \u001b[38;5;129;01min\u001b[39;00m playlist_ids:\n\u001b[1;32m    106\u001b[0m             executor\u001b[38;5;241m.\u001b[39msubmit(DownloadMusic(client_id, client_secret, redirect_uri, scope, username)\u001b[38;5;241m.\u001b[39mrun, playlist_id)\n",
      "File \u001b[0;32m/usr/lib/python3.10/concurrent/futures/_base.py:649\u001b[0m, in \u001b[0;36mExecutor.__exit__\u001b[0;34m(self, exc_type, exc_val, exc_tb)\u001b[0m\n\u001b[1;32m    648\u001b[0m \u001b[38;5;28;01mdef\u001b[39;00m \u001b[38;5;21m__exit__\u001b[39m(\u001b[38;5;28mself\u001b[39m, exc_type, exc_val, exc_tb):\n\u001b[0;32m--> 649\u001b[0m     \u001b[38;5;28;43mself\u001b[39;49m\u001b[38;5;241;43m.\u001b[39;49m\u001b[43mshutdown\u001b[49m\u001b[43m(\u001b[49m\u001b[43mwait\u001b[49m\u001b[38;5;241;43m=\u001b[39;49m\u001b[38;5;28;43;01mTrue\u001b[39;49;00m\u001b[43m)\u001b[49m\n\u001b[1;32m    650\u001b[0m     \u001b[38;5;28;01mreturn\u001b[39;00m \u001b[38;5;28;01mFalse\u001b[39;00m\n",
      "File \u001b[0;32m/usr/lib/python3.10/concurrent/futures/thread.py:235\u001b[0m, in \u001b[0;36mThreadPoolExecutor.shutdown\u001b[0;34m(self, wait, cancel_futures)\u001b[0m\n\u001b[1;32m    233\u001b[0m \u001b[38;5;28;01mif\u001b[39;00m wait:\n\u001b[1;32m    234\u001b[0m     \u001b[38;5;28;01mfor\u001b[39;00m t \u001b[38;5;129;01min\u001b[39;00m \u001b[38;5;28mself\u001b[39m\u001b[38;5;241m.\u001b[39m_threads:\n\u001b[0;32m--> 235\u001b[0m         \u001b[43mt\u001b[49m\u001b[38;5;241;43m.\u001b[39;49m\u001b[43mjoin\u001b[49m\u001b[43m(\u001b[49m\u001b[43m)\u001b[49m\n",
      "File \u001b[0;32m/usr/lib/python3.10/threading.py:1096\u001b[0m, in \u001b[0;36mThread.join\u001b[0;34m(self, timeout)\u001b[0m\n\u001b[1;32m   1093\u001b[0m     \u001b[38;5;28;01mraise\u001b[39;00m \u001b[38;5;167;01mRuntimeError\u001b[39;00m(\u001b[38;5;124m\"\u001b[39m\u001b[38;5;124mcannot join current thread\u001b[39m\u001b[38;5;124m\"\u001b[39m)\n\u001b[1;32m   1095\u001b[0m \u001b[38;5;28;01mif\u001b[39;00m timeout \u001b[38;5;129;01mis\u001b[39;00m \u001b[38;5;28;01mNone\u001b[39;00m:\n\u001b[0;32m-> 1096\u001b[0m     \u001b[38;5;28;43mself\u001b[39;49m\u001b[38;5;241;43m.\u001b[39;49m\u001b[43m_wait_for_tstate_lock\u001b[49m\u001b[43m(\u001b[49m\u001b[43m)\u001b[49m\n\u001b[1;32m   1097\u001b[0m \u001b[38;5;28;01melse\u001b[39;00m:\n\u001b[1;32m   1098\u001b[0m     \u001b[38;5;66;03m# the behavior of a negative timeout isn't documented, but\u001b[39;00m\n\u001b[1;32m   1099\u001b[0m     \u001b[38;5;66;03m# historically .join(timeout=x) for x<0 has acted as if timeout=0\u001b[39;00m\n\u001b[1;32m   1100\u001b[0m     \u001b[38;5;28mself\u001b[39m\u001b[38;5;241m.\u001b[39m_wait_for_tstate_lock(timeout\u001b[38;5;241m=\u001b[39m\u001b[38;5;28mmax\u001b[39m(timeout, \u001b[38;5;241m0\u001b[39m))\n",
      "File \u001b[0;32m/usr/lib/python3.10/threading.py:1116\u001b[0m, in \u001b[0;36mThread._wait_for_tstate_lock\u001b[0;34m(self, block, timeout)\u001b[0m\n\u001b[1;32m   1113\u001b[0m     \u001b[38;5;28;01mreturn\u001b[39;00m\n\u001b[1;32m   1115\u001b[0m \u001b[38;5;28;01mtry\u001b[39;00m:\n\u001b[0;32m-> 1116\u001b[0m     \u001b[38;5;28;01mif\u001b[39;00m \u001b[43mlock\u001b[49m\u001b[38;5;241;43m.\u001b[39;49m\u001b[43macquire\u001b[49m\u001b[43m(\u001b[49m\u001b[43mblock\u001b[49m\u001b[43m,\u001b[49m\u001b[43m \u001b[49m\u001b[43mtimeout\u001b[49m\u001b[43m)\u001b[49m:\n\u001b[1;32m   1117\u001b[0m         lock\u001b[38;5;241m.\u001b[39mrelease()\n\u001b[1;32m   1118\u001b[0m         \u001b[38;5;28mself\u001b[39m\u001b[38;5;241m.\u001b[39m_stop()\n",
      "\u001b[0;31mKeyboardInterrupt\u001b[0m: "
     ]
    },
    {
     "name": "stdout",
     "output_type": "stream",
     "text": [
      "Deleting original file TECHNO BUNKER/Space 92 & HI-LO - ORION [Official Audio].webm (pass -k to keep)\n",
      "Searching for When I Push - Edit by Eli Brown.\n",
      "[youtube] mMifb5E2HJs: Downloading ios player API JSON\n",
      "[youtube] mMifb5E2HJs: Downloading android player API JSON\n"
     ]
    },
    {
     "name": "stderr",
     "output_type": "stream",
     "text": [
      "WARNING: [youtube] Skipping player responses from android clients (got player responses for video \"aQvGIIdgFDM\" instead of \"mMifb5E2HJs\")\n"
     ]
    },
    {
     "name": "stdout",
     "output_type": "stream",
     "text": [
      "Initiating download for When I Push - Edit-Eli Brown.\n",
      "[youtube] Extracting URL: https://www.youtube.com/watch?v=hESkviT7kBQ&pp=ygUcV2hlbiBJIFB1c2ggLSBFZGl0LUVsaSBCcm93bg%3D%3D\n",
      "[youtube] hESkviT7kBQ: Downloading webpage\n",
      "[youtube] hESkviT7kBQ: Downloading ios player API JSON\n",
      "[youtube] hESkviT7kBQ: Downloading android player API JSON\n"
     ]
    },
    {
     "name": "stderr",
     "output_type": "stream",
     "text": [
      "WARNING: [youtube] Skipping player responses from android clients (got player responses for video \"aQvGIIdgFDM\" instead of \"hESkviT7kBQ\")\n"
     ]
    },
    {
     "name": "stdout",
     "output_type": "stream",
     "text": [
      "[youtube] mMifb5E2HJs: Downloading m3u8 information\n",
      "[info] mMifb5E2HJs: Downloading 1 format(s): 251\n",
      "[download] Destination: SV24 - Hard/The Prophet - Wanna Play？ (270 BPM Terror Edit) (Official Audio).webm\n",
      "[download] 100% of    1.90MiB in 00:00:01 at 1.82MiB/s   \n",
      "[ExtractAudio] Destination: SV24 - Hard/The Prophet - Wanna Play？ (270 BPM Terror Edit) (Official Audio).wav\n",
      "Deleting original file SV24 - Hard/The Prophet - Wanna Play？ (270 BPM Terror Edit) (Official Audio).webm (pass -k to keep)\n",
      "Searching for 50 Pence Genc - Radio Edit by Rami Ali.\n",
      "[youtube] hESkviT7kBQ: Downloading m3u8 information\n",
      "[info] hESkviT7kBQ: Downloading 1 format(s): 251\n",
      "Initiating download for 50 Pence Genc - Radio Edit-Rami Ali.\n",
      "[download] Destination: TECHNO BUNKER/Eli Brown, Layton Giordani & OFFAIAH - When I Push ｜ Drumcode.webm\n",
      "[youtube] Extracting URL: https://www.youtube.com/watch?v=xIiGAQjBR-w&pp=ygUjNTAgUGVuY2UgR2VuYyAtIFJhZGlvIEVkaXQtUmFtaSBBbGk%3D\n",
      "[download]   0.0% of    5.29MiB at   21.40KiB/s ETA 04:13[youtube] xIiGAQjBR-w: Downloading webpage\n",
      "[download]  37.8% of    5.29MiB at    3.50MiB/s ETA 00:00[youtube] xIiGAQjBR-w: Downloading ios player API JSON\n",
      "[youtube] xIiGAQjBR-w: Downloading android player API JSON\n",
      "[download]  75.6% of    5.29MiB at    3.66MiB/s ETA 00:00"
     ]
    },
    {
     "name": "stderr",
     "output_type": "stream",
     "text": [
      "WARNING: [youtube] Skipping player responses from android clients (got player responses for video \"aQvGIIdgFDM\" instead of \"xIiGAQjBR-w\")\n"
     ]
    },
    {
     "name": "stdout",
     "output_type": "stream",
     "text": [
      "[download] 100% of    5.29MiB in 00:00:01 at 3.37MiB/s   \n",
      "[ExtractAudio] Destination: TECHNO BUNKER/Eli Brown, Layton Giordani & OFFAIAH - When I Push ｜ Drumcode.wav\n",
      "Deleting original file TECHNO BUNKER/Eli Brown, Layton Giordani & OFFAIAH - When I Push ｜ Drumcode.webm (pass -k to keep)\n",
      "Searching for Breathe by Amelie Lens.\n",
      "[youtube] xIiGAQjBR-w: Downloading m3u8 information\n",
      "Initiating download for Breathe-Amelie Lens.\n",
      "[youtube] Extracting URL: https://www.youtube.com/watch?v=FVCEeAf6Xag&pp=ygUTQnJlYXRoZS1BbWVsaWUgTGVucw%3D%3D\n",
      "[youtube] FVCEeAf6Xag: Downloading webpage\n",
      "[info] xIiGAQjBR-w: Downloading 1 format(s): 251\n",
      "[download] Destination: SV24 - Hard/50 Pence Genc (Radio Edit).webm\n",
      "[download]  27.1% of    3.68MiB at    4.04MiB/s ETA 00:00"
     ]
    }
   ],
   "source": [
    "import spotipy\n",
    "from youtube_search import YoutubeSearch\n",
    "import concurrent.futures as cf\n",
    "import yt_dlp\n",
    "\n",
    "client_id = \"CLIENT_ID\"\n",
    "client_secret = \"CLIENT_SECRET\"\n",
    "redirect_uri = \"http://localhost:3000/dashboard\"\n",
    "scope = \"user-library-read\"\n",
    "username = \"mistercouscous\"\n",
    "\n",
    "class DownloadMusic:\n",
    "    def __init__(self, client_id: str, client_secret: str, redirect_uri: str, scope: str, username: str):\n",
    "        self.client_id = client_id\n",
    "        self.client_secret = client_secret\n",
    "        self.redirect_uri = redirect_uri\n",
    "        self.scope = scope\n",
    "        self.username = username\n",
    "        self.sp = spotipy.Spotify(\n",
    "            auth_manager=spotipy.SpotifyClientCredentials(\n",
    "                client_id=client_id, client_secret=client_secret\n",
    "            )\n",
    "        )\n",
    "        self.playlistName = None\n",
    "\n",
    "    def write_playlist(self, username: str, playlist_id: str):\n",
    "        results = self.sp.user_playlist(username, playlist_id)\n",
    "        playlist_name = results['name']\n",
    "        self.playlistName = playlist_name\n",
    "        text_file = f\"{playlist_name}.txt\"\n",
    "        print(f\"Writing {results['tracks']['total']} tracks to {text_file}.\")\n",
    "        tracks = results['tracks']\n",
    "        self.write_tracks(text_file, tracks)\n",
    "        return playlist_name\n",
    "\n",
    "    def write_tracks(self, text_file: str, tracks: dict):\n",
    "        with open(text_file, 'w+', encoding='utf-8') as file_out:\n",
    "            while True:\n",
    "                for item in tracks['items']:\n",
    "                    if 'track' in item:\n",
    "                        track = item['track']\n",
    "                    else:\n",
    "                        track = item\n",
    "                    try:\n",
    "                        track_url = track['external_urls']['spotify']\n",
    "                        track_name = track['name']\n",
    "                        track_artist = track['artists'][0]['name']\n",
    "                        csv_line = f\"{track_name},{track_artist},{track_url}\\n\"\n",
    "                        try:\n",
    "                            file_out.write(csv_line)\n",
    "                        except UnicodeEncodeError:\n",
    "                            print(f\"Track named {track_name} failed due to a UnicodeEncodeError. This is most likely due to the track being unavailable in your region.\")\n",
    "                    except KeyError:\n",
    "                        print(f\"Track named {track['name']} failed due to a KeyError. This is most likely due to the track being unavailable in your region.\")\n",
    "                if tracks['next']:\n",
    "                    tracks = self.sp.next(tracks)\n",
    "                else:\n",
    "                    break\n",
    "\n",
    "    def find_and_download_songs_spotify(self, reference_file: str):\n",
    "        TOTAL_ATTEMPTS = 10\n",
    "        with open(reference_file, \"r\", encoding='utf-8') as file:\n",
    "            for line in file:\n",
    "                temp = line.split(\",\")\n",
    "                name, artist = temp[0], temp[1]\n",
    "                print(f\"Searching for {name} by {artist}.\")\n",
    "                text_to_search = f\"{name}-{artist}\"\n",
    "                best_url = None\n",
    "                attempts_left = TOTAL_ATTEMPTS\n",
    "                while attempts_left > 0:\n",
    "                    try:\n",
    "                        results_list = YoutubeSearch(text_to_search, max_results=1).to_dict()\n",
    "                        best_url = f\"https://www.youtube.com{results_list[0]['url_suffix']}\"\n",
    "                        break\n",
    "                    except IndexError:\n",
    "                        attempts_left -= 1\n",
    "                        print(f\"No valid URLs found for {text_to_search}, trying again ({attempts_left} attempts left).\")\n",
    "                if best_url is None:\n",
    "                    print(f\"No valid URLs found for {text_to_search}, skipping track.\")\n",
    "                    continue\n",
    "                print(f\"Initiating download for {text_to_search}.\")\n",
    "                ydl_opts = {\n",
    "                    'format': 'bestaudio/best',\n",
    "                    'postprocessors': [{\n",
    "                        'key': 'FFmpegExtractAudio',\n",
    "                        'preferredcodec': 'wav',\n",
    "                        'preferredquality': '320',\n",
    "                    }],\n",
    "                    'outtmpl': f'{self.playlistName}/%(title)s.%(ext)s',\n",
    "                    'ffmpeg_location': '/usr/bin/ffmpeg',\n",
    "                }\n",
    "                with yt_dlp.YoutubeDL(ydl_opts) as ydl:\n",
    "                    ydl.download([best_url])\n",
    "\n",
    "    def run(self, playlist_id: str):\n",
    "        self.sp.playlist_tracks(playlist_id)\n",
    "        playlist_uri = f\"spotify:playlist:{playlist_id}\"\n",
    "        playlist_name = self.write_playlist(self.username, playlist_uri)\n",
    "        reference_file = f\"{playlist_name}.txt\"\n",
    "        self.find_and_download_songs_spotify(reference_file)\n",
    "\n",
    "playlist_ids = [\"37i9dQZF1DX6J5NfMJS675\", \"3B7HTAQWys3xZZ8YChBgUE\", \"2rs8eQ5qDqu2lLIqHvId6l\"]\n",
    "if __name__ == \"__main__\":\n",
    "    with cf.ThreadPoolExecutor(max_workers=len(playlist_ids)) as executor:\n",
    "        for playlist_id in playlist_ids:\n",
    "            executor.submit(DownloadMusic(client_id, client_secret, redirect_uri, scope, username).run, playlist_id)\n"
   ]
  }
 ],
 "metadata": {
  "kernelspec": {
   "display_name": "Python 3",
   "language": "python",
   "name": "python3"
  },
  "language_info": {
   "codemirror_mode": {
    "name": "ipython",
    "version": 3
   },
   "file_extension": ".py",
   "mimetype": "text/x-python",
   "name": "python",
   "nbconvert_exporter": "python",
   "pygments_lexer": "ipython3",
   "version": "3.10.12"
  }
 },
 "nbformat": 4,
 "nbformat_minor": 2
}
